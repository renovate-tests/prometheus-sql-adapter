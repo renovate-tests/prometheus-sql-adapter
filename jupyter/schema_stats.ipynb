{
 "cells": [
  {
   "cell_type": "code",
   "execution_count": 67,
   "metadata": {},
   "outputs": [],
   "source": [
    "import matplotlib.pyplot as plot\n",
    "import numpy as np\n",
    "import os\n",
    "import pandas as pd\n",
    "import pandas.io.json as pj\n",
    "import psycopg2\n",
    "from statsmodels.tsa.api import ExponentialSmoothing"
   ]
  },
  {
   "cell_type": "code",
   "execution_count": 68,
   "metadata": {},
   "outputs": [],
   "source": [
    "def load_query(query):\n",
    "    conn = psycopg2.connect(os.environ.get('PROMSQL_CONNSTR'))\n",
    "    samples = pd.read_sql_query(query, conn)\n",
    "    conn.close()\n",
    "    return samples"
   ]
  },
  {
   "cell_type": "markdown",
   "metadata": {},
   "source": [
    "Y-axis format function from https://stackoverflow.com/a/40573071"
   ]
  },
  {
   "cell_type": "code",
   "execution_count": 69,
   "metadata": {},
   "outputs": [],
   "source": [
    "from matplotlib.ticker import FuncFormatter\n",
    "\n",
    "def format_bytes(y, pos):\n",
    "    decades = [1e12, 1e9, 1e6, 1e3, 1e0]\n",
    "    suffix  = [\"TB\", \"GB\", \"MB\", \"kB\", \"B\"]\n",
    "    if y == 0:\n",
    "        return str(0)\n",
    "    for i, d in enumerate(decades):\n",
    "        if np.abs(y) >=d:\n",
    "            val = y/float(d)\n",
    "            signf = len(str(val).split(\".\")[1])\n",
    "            if signf == 0:\n",
    "                return '{val:d} {suffix}'.format(val=int(val), suffix=suffix[i])\n",
    "            else:\n",
    "                if signf == 1:\n",
    "                    if str(val).split(\".\")[1] == \"0\":\n",
    "                       return '{val:d} {suffix}'.format(val=int(round(val)), suffix=suffix[i]) \n",
    "                tx = \"{\"+\"val:.{signf}f\".format(signf = signf) +\"} {suffix}\"\n",
    "                return tx.format(val=val, suffix=suffix[i])\n",
    "    return y\n",
    "\n",
    "def format_exp(y, pos):\n",
    "    decades = [1e12, 1e9, 1e6, 1e3, 1e0]\n",
    "    suffix  = [\"T\", \"B\", \"M\", \"K\", \"\"]\n",
    "    if y == 0:\n",
    "        return str(0)\n",
    "    for i, d in enumerate(decades):\n",
    "        if np.abs(y) >=d:\n",
    "            val = y/float(d)\n",
    "            signf = len(str(val).split(\".\")[1])\n",
    "            if signf == 0:\n",
    "                return '{val:d} {suffix}'.format(val=int(val), suffix=suffix[i])\n",
    "            else:\n",
    "                if signf == 1:\n",
    "                    if str(val).split(\".\")[1] == \"0\":\n",
    "                       return '{val:d} {suffix}'.format(val=int(round(val)), suffix=suffix[i]) \n",
    "                tx = \"{\"+\"val:.{signf}f\".format(signf = signf) +\"} {suffix}\"\n",
    "                return tx.format(val=val, suffix=suffix[i])\n",
    "    return y"
   ]
  },
  {
   "cell_type": "code",
   "execution_count": 70,
   "metadata": {},
   "outputs": [
    {
     "name": "stdout",
     "output_type": "stream",
     "text": [
      "   value                      time\n",
      "0    0.0 2019-12-10 12:00:00+00:00\n",
      "1    0.0 2019-12-10 13:00:00+00:00\n",
      "2    0.0 2019-12-10 14:00:00+00:00\n",
      "3    0.0 2019-12-10 15:00:00+00:00\n",
      "4    0.0 2019-12-10 16:00:00+00:00\n"
     ]
    }
   ],
   "source": [
    "chunk_rows_raw = load_query(\"\"\"\n",
    "SELECT\n",
    "  SUM(n_live_tup) AS value,\n",
    "  to_timestamp(lower(ranges[1])/10^6) AS time\n",
    "FROM chunk_relation_size('metric_samples') AS m\n",
    "JOIN pg_stat_user_tables AS t\n",
    "  ON CONCAT(t.schemaname, '.', t.relname) = m.chunk_table\n",
    "GROUP BY time\n",
    "ORDER BY time;\n",
    "\"\"\")\n",
    "print(chunk_rows_raw.head(5))"
   ]
  },
  {
   "cell_type": "code",
   "execution_count": 71,
   "metadata": {},
   "outputs": [
    {
     "name": "stdout",
     "output_type": "stream",
     "text": [
      "                           value\n",
      "time                            \n",
      "2019-12-10 12:00:00+00:00    0.0\n",
      "2019-12-10 13:00:00+00:00    0.0\n"
     ]
    }
   ],
   "source": [
    "chunk_rows = chunk_rows_raw.set_index('time').resample('1h').max()\n",
    "print(chunk_rows.head(2))"
   ]
  },
  {
   "cell_type": "code",
   "execution_count": 72,
   "metadata": {},
   "outputs": [
    {
     "name": "stdout",
     "output_type": "stream",
     "text": [
      "           metric                      time      sum\n",
      "0  metric_samples 2019-12-10 12:00:00+00:00  32768.0\n",
      "1  metric_samples 2019-12-10 13:00:00+00:00  32768.0\n",
      "2  metric_samples 2019-12-10 14:00:00+00:00  32768.0\n",
      "3  metric_samples 2019-12-10 15:00:00+00:00  32768.0\n",
      "4  metric_samples 2019-12-10 16:00:00+00:00  32768.0\n"
     ]
    }
   ],
   "source": [
    "chunk_size_raw = load_query(\"\"\"\n",
    "SELECT\n",
    "    MAX(table_name) AS metric,\n",
    "    to_timestamp(lower(ranges[1])/10^6) AS time,\n",
    "    SUM(total_bytes)\n",
    "FROM _timescaledb_catalog.hypertable, chunk_relation_size(table_name::text)\n",
    "WHERE hypertable.table_name LIKE 'metric%' \n",
    "GROUP BY time ORDER BY 1, 2;\n",
    "\"\"\")\n",
    "print(chunk_size_raw.head(5))"
   ]
  },
  {
   "cell_type": "code",
   "execution_count": 73,
   "metadata": {},
   "outputs": [
    {
     "name": "stdout",
     "output_type": "stream",
     "text": [
      "metric                     metric_samples\n",
      "time                                     \n",
      "2019-12-10 12:00:00+00:00         32768.0\n",
      "2019-12-10 13:00:00+00:00         32768.0\n"
     ]
    }
   ],
   "source": [
    "chunk_size = pd.pivot(chunk_size_raw, index='time', columns='metric', values='sum').resample('1h').max()\n",
    "print(chunk_size.head(2))"
   ]
  },
  {
   "cell_type": "code",
   "execution_count": 80,
   "metadata": {},
   "outputs": [
    {
     "data": {
      "image/png": "[encoded data removed]",
      "text/plain": [
       "<Figure size 1152x288 with 2 Axes>"
      ]
     },
     "metadata": {
      "needs_background": "light"
     },
     "output_type": "display_data"
    }
   ],
   "source": [
    "%matplotlib inline\n",
    "palette_key = '#AD1457'\n",
    "\n",
    "fig, ax = plot.subplots(nrows=2, figsize=(16, 4))\n",
    "\n",
    "ax[0].plot(chunk_size, color=palette_key)\n",
    "ax[0].yaxis.set_major_formatter(FuncFormatter(format_bytes))\n",
    "ax[0].yaxis.set_label_text('size')\n",
    "\n",
    "ax[1].plot(chunk_rows, color=palette_key)\n",
    "ax[1].yaxis.set_major_formatter(FuncFormatter(format_exp))\n",
    "ax[1].yaxis.set_label_text('rows')\n",
    "\n",
    "fig.show()"
   ]
  },
  {
   "cell_type": "code",
   "execution_count": null,
   "metadata": {},
   "outputs": [],
   "source": []
  }
 ],
 "metadata": {
  "kernelspec": {
   "display_name": "Python 3",
   "language": "python",
   "name": "python3"
  },
  "language_info": {
   "codemirror_mode": {
    "name": "ipython",
    "version": 3
   },
   "file_extension": ".py",
   "mimetype": "text/x-python",
   "name": "python",
   "nbconvert_exporter": "python",
   "pygments_lexer": "ipython3",
   "version": "3.7.3"
  }
 },
 "nbformat": 4,
 "nbformat_minor": 4
}
